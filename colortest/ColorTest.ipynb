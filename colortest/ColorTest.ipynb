{
 "cells": [
  {
   "cell_type": "code",
   "execution_count": 15,
   "metadata": {},
   "outputs": [
    {
     "data": {
      "application/vnd.jupyter.widget-view+json": {
       "model_id": "76d9ac6fc1b64cd7907a55b0a3803396",
       "version_major": 2,
       "version_minor": 0
      },
      "text/plain": [
       "interactive(children=(Dropdown(description='rank', options=(6, 8, 10, 12, 20), value=6), IntSlider(value=1, de…"
      ]
     },
     "metadata": {},
     "output_type": "display_data"
    },
    {
     "data": {
      "text/plain": [
       "<function __main__.evaluateTemplate(rank=6, value=1, hueCenter=0, hueWidth=1, saturationCutoff=0, brightnessCutoff=0)>"
      ]
     },
     "execution_count": 15,
     "metadata": {},
     "output_type": "execute_result"
    }
   ],
   "source": [
    "# %%\n",
    "\n",
    "import cv2 as cv\n",
    "import numpy as np\n",
    "from matplotlib import pyplot as plt\n",
    "import ipywidgets as widgets\n",
    "\n",
    "\n",
    "# %%\n",
    "\n",
    "def getColorCriteria(hueCenter,hueWidth):\n",
    "    hueStart = hueCenter - (hueWidth-1)/2\n",
    "    hueEnd = hueCenter + (hueWidth-1)/2\n",
    "    if hueStart > hueEnd:\n",
    "        return [\n",
    "            ((0,0,0),(hueEnd,255,255)),\n",
    "            ((hueStart,0,0),(0,255,255))\n",
    "        ]\n",
    "    else:\n",
    "        return [\n",
    "            ((hueStart,0,0),(hueEnd,255,255))\n",
    "        ]\n",
    "\n",
    "def evaluateImage(imageFile,hueCenter,hueWidth,saturationCutoff=0,brightnessCutoff=0):\n",
    "    imageHSV = cv.cvtColor(cv.imread(imageFile),cv.COLOR_BGR2HSV)\n",
    "    imageRGB = cv.cvtColor(imageHSV,cv.COLOR_HSV2RGB)\n",
    "    plt.imshow(imageHSV)\n",
    "    plt.show()\n",
    "    maskFilters = getColorCriteria(hueCenter,hueWidth)\n",
    "    maskFilters.append(((0,saturationCutoff,brightnessCutoff),(180,255,255)))\n",
    "    print(maskFilters.count)\n",
    "    masks = [cv.inRange(imageHSV, mf[0], mf[1]) for mf in maskFilters]\n",
    "    mask = np.zeros(masks[0].shape, dtype=np.uint8)\n",
    "    plt.imshow(mask, cmap='gray')\n",
    "    plt.show()\n",
    "    for m in masks:\n",
    "        mask = cv.add(mask, m)\n",
    "    imageRGB[np.where(mask==0)] = 0\n",
    "    plt.imshow(imageRGB)\n",
    "    plt.show()\n",
    "# %%\n",
    "\n",
    "\n",
    "def evaluateTemplate(rank=6,value=1,hueCenter=0,hueWidth=1,saturationCutoff=0,brightnessCutoff=0):\n",
    "    filePathTemplate = \"Images\\\\Templates\\\\template-D# (V#).jpg\"\n",
    "    templateFile = filePathTemplate.replace(\"D#\",\"d\"+str(rank))\n",
    "    templateFile = templateFile.replace(\"V#\",str(value))\n",
    "    evaluateImage(templateFile,hueCenter,hueWidth)\n",
    "\n",
    "#%%\n",
    "\n",
    "widgets.interact(evaluateTemplate,\n",
    "                 rank=[6,8,10,12,20],\n",
    "                 value=(1,20,1), \n",
    "                 hueCenter=(0,179,1),\n",
    "                 hueWidth=(1,179,2),\n",
    "                 saturationCutoff=(0,255,1),\n",
    "                 brightnessCutoff=(0,255,1))"
   ]
  }
 ],
 "metadata": {
  "kernelspec": {
   "display_name": ".venv",
   "language": "python",
   "name": "python3"
  },
  "language_info": {
   "codemirror_mode": {
    "name": "ipython",
    "version": 3
   },
   "file_extension": ".py",
   "mimetype": "text/x-python",
   "name": "python",
   "nbconvert_exporter": "python",
   "pygments_lexer": "ipython3",
   "version": "3.12.3"
  }
 },
 "nbformat": 4,
 "nbformat_minor": 2
}
