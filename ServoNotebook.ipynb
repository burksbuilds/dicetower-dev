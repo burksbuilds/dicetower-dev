{
 "cells": [
  {
   "cell_type": "code",
   "execution_count": 28,
   "metadata": {},
   "outputs": [],
   "source": [
    "from DiceTowerVision.STservo_sdk import *\n",
    "# Default setting\n",
    "BAUDRATE                    = 1000000           # STServo default baudrate : 1000000\n",
    "PORT_NAME                   = \"COM5\"\n",
    "\n",
    "ARM_ID = 1\n",
    "FLAP_ID = 2\n",
    "\n",
    "servo_port = PortHandler(PORT_NAME)\n",
    "servo_motor = sts(servo_port)\n",
    "\n",
    "if not servo_port.openPort():\n",
    "    raise Exception(\"Failed to open serial port!\")\n",
    "\n",
    "if not servo_port.setBaudRate(BAUDRATE):\n",
    "    raise Exception(\"Failed to set serial port baud rate!\")\n",
    "\n"
   ]
  },
  {
   "cell_type": "code",
   "execution_count": 29,
   "metadata": {},
   "outputs": [
    {
     "name": "stdout",
     "output_type": "stream",
     "text": [
      "Arm Position: 985\n",
      "Flap Position: 2046\n"
     ]
    }
   ],
   "source": [
    "position, speed, sts_comm_result, sts_error = servo_motor.ReadPosSpeed(ARM_ID)\n",
    "print(\"Arm Position: %u\"%position)\n",
    "position, speed, sts_comm_result, sts_error = servo_motor.ReadPosSpeed(FLAP_ID)\n",
    "print(\"Flap Position: %u\"%position)\n"
   ]
  },
  {
   "cell_type": "code",
   "execution_count": 35,
   "metadata": {},
   "outputs": [
    {
     "data": {
      "text/plain": [
       "(0, 0)"
      ]
     },
     "execution_count": 35,
     "metadata": {},
     "output_type": "execute_result"
    }
   ],
   "source": [
    "servo_motor.WritePosEx(ARM_ID,970,1000,50)\n",
    "servo_motor.WritePosEx(FLAP_ID,2048,1000,50)\n",
    "time.sleep(1)\n",
    "servo_motor.WritePosEx(ARM_ID,970+512,1500,200)\n",
    "time.sleep(2)\n",
    "servo_motor.WritePosEx(ARM_ID,970,1000,50)\n",
    "time.sleep(1)\n",
    "servo_motor.WritePosEx(FLAP_ID,1422,1000,50)\n",
    "\n",
    "\n"
   ]
  },
  {
   "cell_type": "code",
   "execution_count": 37,
   "metadata": {},
   "outputs": [],
   "source": [
    "servo_port.closePort()"
   ]
  }
 ],
 "metadata": {
  "kernelspec": {
   "display_name": "dicetower-dev",
   "language": "python",
   "name": "dicetower-dev"
  },
  "language_info": {
   "codemirror_mode": {
    "name": "ipython",
    "version": 3
   },
   "file_extension": ".py",
   "mimetype": "text/x-python",
   "name": "python",
   "nbconvert_exporter": "python",
   "pygments_lexer": "ipython3",
   "version": "3.12.3"
  }
 },
 "nbformat": 4,
 "nbformat_minor": 2
}
